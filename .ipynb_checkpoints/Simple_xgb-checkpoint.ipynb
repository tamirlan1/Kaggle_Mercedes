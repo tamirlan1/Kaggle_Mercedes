{
 "cells": [
  {
   "cell_type": "code",
   "execution_count": 62,
   "metadata": {
    "collapsed": false
   },
   "outputs": [],
   "source": [
    "import pandas as pd\n",
    "import numpy as np\n",
    "import xgboost as xgb\n",
    "from sklearn import model_selection, preprocessing\n",
    "from sklearn.metrics import r2_score\n",
    "from sklearn.model_selection import train_test_split\n",
    "import matplotlib.pyplot as plt\n",
    "import seaborn as sns\n",
    "%matplotlib inline "
   ]
  },
  {
   "cell_type": "code",
   "execution_count": 63,
   "metadata": {
    "collapsed": false
   },
   "outputs": [],
   "source": [
    "df_train = pd.read_csv('clean_train.csv')\n",
    "df_test = pd.read_csv('clean_test.csv')\n",
    "id_test = df_test.ID"
   ]
  },
  {
   "cell_type": "code",
   "execution_count": 64,
   "metadata": {
    "collapsed": false
   },
   "outputs": [
    {
     "name": "stdout",
     "output_type": "stream",
     "text": [
      "(4209, 311) (4209, 311) (4209,)\n",
      "(4209, 311) (4209, 311)\n"
     ]
    }
   ],
   "source": [
    "y_train = df_train[\"y\"]\n",
    "x_train = df_train.drop([\"y\"], axis=1)\n",
    "x_test = df_test#.drop([\"ID\"], axis=1)\n",
    "\n",
    "print x_train.shape, x_test.shape, y_train.shape\n",
    "\n",
    "for c in x_train.columns:\n",
    "    if x_train[c].dtype == 'object':\n",
    "        lbl = preprocessing.LabelEncoder()\n",
    "        lbl.fit(list(x_train[c].values)) \n",
    "        x_train[c] = lbl.transform(list(x_train[c].values))\n",
    "        #x_train.drop(c,axis=1,inplace=True)\n",
    "        \n",
    "for c in x_test.columns:\n",
    "    if x_test[c].dtype == 'object':\n",
    "        lbl = preprocessing.LabelEncoder()\n",
    "        lbl.fit(list(x_test[c].values)) \n",
    "        x_test[c] = lbl.transform(list(x_test[c].values))\n",
    "        #x_test.drop(c,axis=1,inplace=True) \n",
    "\n",
    "print x_train.shape, x_test.shape"
   ]
  },
  {
   "cell_type": "code",
   "execution_count": 65,
   "metadata": {
    "collapsed": false
   },
   "outputs": [],
   "source": [
    "x_train, x_valid, y_train, y_valid = train_test_split(x_train, y_train, test_size=0.2, random_state=2020)\n",
    "\n",
    "dtrain = xgb.DMatrix(x_train, label=y_train)\n",
    "dvalid = xgb.DMatrix(x_valid, label=y_valid)\n",
    "dtest = xgb.DMatrix(x_test)\n",
    "# dtrain = xgb.DMatrix(x_train, y_train)\n",
    "# dtest = xgb.DMatrix(x_test)"
   ]
  },
  {
   "cell_type": "code",
   "execution_count": 72,
   "metadata": {
    "collapsed": false
   },
   "outputs": [
    {
     "name": "stdout",
     "output_type": "stream",
     "text": [
      "[0]\ttrain-r2:-59.3539\tvalid-r2:-62.3978\n",
      "Multiple eval metrics have been passed: 'valid-r2' will be used for early stopping.\n",
      "\n",
      "Will train until valid-r2 hasn't improved in 50 rounds.\n",
      "[10]\ttrain-r2:-39.4618\tvalid-r2:-41.4533\n",
      "[20]\ttrain-r2:-26.1735\tvalid-r2:-27.47\n",
      "[30]\ttrain-r2:-17.2968\tvalid-r2:-18.1346\n",
      "[40]\ttrain-r2:-11.367\tvalid-r2:-11.9029\n",
      "[50]\ttrain-r2:-7.40526\tvalid-r2:-7.74834\n",
      "[60]\ttrain-r2:-4.75822\tvalid-r2:-4.97534\n",
      "[70]\ttrain-r2:-2.98936\tvalid-r2:-3.12728\n",
      "[80]\ttrain-r2:-1.80658\tvalid-r2:-1.89587\n",
      "[90]\ttrain-r2:-1.01496\tvalid-r2:-1.07613\n",
      "[100]\ttrain-r2:-0.484566\tvalid-r2:-0.528396\n",
      "[110]\ttrain-r2:-0.128979\tvalid-r2:-0.161956\n",
      "[120]\ttrain-r2:0.109422\tvalid-r2:0.0824\n",
      "[130]\ttrain-r2:0.269738\tvalid-r2:0.245826\n",
      "[140]\ttrain-r2:0.377791\tvalid-r2:0.355197\n",
      "[150]\ttrain-r2:0.450505\tvalid-r2:0.427605\n",
      "[160]\ttrain-r2:0.500333\tvalid-r2:0.476538\n",
      "[170]\ttrain-r2:0.534331\tvalid-r2:0.509206\n",
      "[180]\ttrain-r2:0.557909\tvalid-r2:0.530665\n",
      "[190]\ttrain-r2:0.574352\tvalid-r2:0.544818\n",
      "[200]\ttrain-r2:0.586283\tvalid-r2:0.554041\n",
      "[210]\ttrain-r2:0.594906\tvalid-r2:0.559595\n",
      "[220]\ttrain-r2:0.601209\tvalid-r2:0.563595\n",
      "[230]\ttrain-r2:0.605737\tvalid-r2:0.565894\n",
      "[240]\ttrain-r2:0.609576\tvalid-r2:0.567122\n",
      "[250]\ttrain-r2:0.612445\tvalid-r2:0.568021\n",
      "[260]\ttrain-r2:0.615301\tvalid-r2:0.568552\n",
      "[270]\ttrain-r2:0.617805\tvalid-r2:0.568484\n",
      "[280]\ttrain-r2:0.62125\tvalid-r2:0.56897\n",
      "[290]\ttrain-r2:0.623642\tvalid-r2:0.568532\n",
      "[300]\ttrain-r2:0.626873\tvalid-r2:0.568034\n",
      "[310]\ttrain-r2:0.628607\tvalid-r2:0.567727\n",
      "[320]\ttrain-r2:0.631763\tvalid-r2:0.56758\n",
      "[330]\ttrain-r2:0.634507\tvalid-r2:0.567683\n",
      "Stopping. Best iteration:\n",
      "[281]\ttrain-r2:0.621423\tvalid-r2:0.56899\n",
      "\n"
     ]
    }
   ],
   "source": [
    "xgb_params = {}\n",
    "xgb_params['objective'] = 'reg:linear'\n",
    "xgb_params['eta'] = 0.02\n",
    "xgb_params['max_depth'] = 4\n",
    "\n",
    "def xgb_r2_score(preds, dtrain):\n",
    "    labels = dtrain.get_label()\n",
    "    return 'r2', r2_score(labels, preds)\n",
    "\n",
    "watchlist = [(dtrain, 'train'), (dvalid, 'valid')]\n",
    "\n",
    "model = xgb.train(xgb_params, dtrain, 1000, watchlist, early_stopping_rounds=50, feval=xgb_r2_score, maximize=True, verbose_eval=10)\n",
    "\n"
   ]
  },
  {
   "cell_type": "code",
   "execution_count": 104,
   "metadata": {
    "collapsed": false
   },
   "outputs": [
    {
     "name": "stdout",
     "output_type": "stream",
     "text": [
      "[0]\ttrain-r2:-50.1848\ttest-r2:-50.6579\n",
      "[10]\ttrain-r2:-5.68273\ttest-r2:-5.72465\n",
      "[20]\ttrain-r2:-0.205753\ttest-r2:-0.211611\n",
      "[30]\ttrain-r2:0.476759\ttest-r2:0.46688\n",
      "[40]\ttrain-r2:0.571249\ttest-r2:0.554633\n",
      "[50]\ttrain-r2:0.592542\ttest-r2:0.566575\n",
      "[60]\ttrain-r2:0.601537\ttest-r2:0.569141\n",
      "[70]\ttrain-r2:0.607795\ttest-r2:0.567889\n"
     ]
    }
   ],
   "source": [
    "xgb_params = {\n",
    "    'eta': 0.1,\n",
    "    'max_depth': 2,\n",
    "    'gamma': 4,\n",
    "    'subsample': 0.6,\n",
    "    'colsample_bytree': 0.6,\n",
    "    'objective': 'reg:linear',\n",
    "#     'eval_metric': 'rmse',\n",
    "    'silent': 1\n",
    "}\n",
    "\n",
    "cv_output = xgb.cv(xgb_params, dtrain, num_boost_round=1000, early_stopping_rounds=20,\n",
    "    verbose_eval=10, show_stdv=False, feval=xgb_r2_score, maximize=True)\n",
    "#     'eta': 0.05,\n",
    "#     'max_depth': 3,\n",
    "#     'gamma': 2,\n",
    "#     'subsample': 0.7,\n",
    "#     'colsample_bytree': 0.7,\n",
    "#     'objective': 'reg:linear',\n",
    "#     'eval_metric': 'rmse',\n",
    "#     'silent': 1\n",
    "# [120]\ttrain-r2:0.633304\ttest-r2:0.565426"
   ]
  },
  {
   "cell_type": "code",
   "execution_count": 105,
   "metadata": {
    "collapsed": false
   },
   "outputs": [
    {
     "data": {
      "text/plain": [
       "<matplotlib.axes._subplots.AxesSubplot at 0x10ec6ad50>"
      ]
     },
     "execution_count": 105,
     "metadata": {},
     "output_type": "execute_result"
    },
    {
     "data": {
      "image/png": "[encoded data removed]",
      "text/plain": [
       "<matplotlib.figure.Figure at 0x10ec6b750>"
      ]
     },
     "metadata": {},
     "output_type": "display_data"
    }
   ],
   "source": [
    "cv_output[['train-r2-mean', 'test-r2-mean']].plot()"
   ]
  },
  {
   "cell_type": "code",
   "execution_count": 106,
   "metadata": {
    "collapsed": true
   },
   "outputs": [],
   "source": [
    "num_boost_rounds = len(cv_output)\n",
    "model = xgb.train(dict(xgb_params, silent=0), dtrain, num_boost_round= num_boost_rounds)"
   ]
  },
  {
   "cell_type": "code",
   "execution_count": 107,
   "metadata": {
    "collapsed": false
   },
   "outputs": [],
   "source": [
    "# fig, ax = plt.subplots(1, 1, figsize=(8, 60))\n",
    "# xgb.plot_importance(model, height=0.5, ax=ax)"
   ]
  },
  {
   "cell_type": "code",
   "execution_count": 108,
   "metadata": {
    "collapsed": false
   },
   "outputs": [
    {
     "name": "stdout",
     "output_type": "stream",
     "text": [
      "Train: ('r2', 0.58691791141382998)\n",
      "Val: ('r2', 0.5681459527865238)\n"
     ]
    }
   ],
   "source": [
    "y_pred_tr = model.predict(dtrain)\n",
    "print 'Train:', xgb_r2_score(y_pred_tr, dtrain)\n",
    "\n",
    "y_pred_val = model.predict(dvalid)\n",
    "print 'Val:', xgb_r2_score(y_pred_val, dvalid)\n",
    "# Train: ('r2', 0.60473081638029402)\n",
    "# Val: ('r2', 0.56729882111087759)\n",
    "\n",
    "# Train: ('r2', 0.59019025799407598)\n",
    "# Val: ('r2', 0.56887638635435567)\n",
    "\n",
    "# 0.6\n",
    "# Train: ('r2', 0.58691791141382998)\n",
    "# Val: ('r2', 0.5681459527865238)"
   ]
  },
  {
   "cell_type": "code",
   "execution_count": 109,
   "metadata": {
    "collapsed": false
   },
   "outputs": [
    {
     "data": {
      "text/html": [
       "<div>\n",
       "<table border=\"1\" class=\"dataframe\">\n",
       "  <thead>\n",
       "    <tr style=\"text-align: right;\">\n",
       "      <th></th>\n",
       "      <th>ID</th>\n",
       "      <th>y</th>\n",
       "    </tr>\n",
       "  </thead>\n",
       "  <tbody>\n",
       "    <tr>\n",
       "      <th>0</th>\n",
       "      <td>1</td>\n",
       "      <td>78.751579</td>\n",
       "    </tr>\n",
       "    <tr>\n",
       "      <th>1</th>\n",
       "      <td>2</td>\n",
       "      <td>98.329315</td>\n",
       "    </tr>\n",
       "    <tr>\n",
       "      <th>2</th>\n",
       "      <td>3</td>\n",
       "      <td>82.763237</td>\n",
       "    </tr>\n",
       "    <tr>\n",
       "      <th>3</th>\n",
       "      <td>4</td>\n",
       "      <td>79.310577</td>\n",
       "    </tr>\n",
       "    <tr>\n",
       "      <th>4</th>\n",
       "      <td>5</td>\n",
       "      <td>114.434006</td>\n",
       "    </tr>\n",
       "  </tbody>\n",
       "</table>\n",
       "</div>"
      ],
      "text/plain": [
       "   ID           y\n",
       "0   1   78.751579\n",
       "1   2   98.329315\n",
       "2   3   82.763237\n",
       "3   4   79.310577\n",
       "4   5  114.434006"
      ]
     },
     "execution_count": 109,
     "metadata": {},
     "output_type": "execute_result"
    }
   ],
   "source": [
    "y_predict = model.predict(dtest)\n",
    "output = pd.DataFrame({'ID': id_test, 'y': y_predict})\n",
    "output.head()"
   ]
  },
  {
   "cell_type": "code",
   "execution_count": 110,
   "metadata": {
    "collapsed": true
   },
   "outputs": [],
   "source": [
    "output.to_csv('submissions/xgb1_fixed_lte10data_thrown+id_cosample0606.csv', index=False)"
   ]
  },
  {
   "cell_type": "code",
   "execution_count": 111,
   "metadata": {
    "collapsed": false
   },
   "outputs": [
    {
     "data": {
      "text/plain": [
       "(4209, 2)"
      ]
     },
     "execution_count": 111,
     "metadata": {},
     "output_type": "execute_result"
    }
   ],
   "source": [
    "output.shape"
   ]
  },
  {
   "cell_type": "code",
   "execution_count": 112,
   "metadata": {
    "collapsed": false
   },
   "outputs": [
    {
     "data": {
      "text/plain": [
       "(4209, 2)"
      ]
     },
     "execution_count": 112,
     "metadata": {},
     "output_type": "execute_result"
    }
   ],
   "source": [
    "sample = pd.read_csv('sample_submission.csv')\n",
    "sample.shape"
   ]
  },
  {
   "cell_type": "code",
   "execution_count": 113,
   "metadata": {
    "collapsed": false
   },
   "outputs": [
    {
     "data": {
      "text/html": [
       "<div>\n",
       "<table border=\"1\" class=\"dataframe\">\n",
       "  <thead>\n",
       "    <tr style=\"text-align: right;\">\n",
       "      <th></th>\n",
       "      <th>ID</th>\n",
       "      <th>y</th>\n",
       "    </tr>\n",
       "  </thead>\n",
       "  <tbody>\n",
       "    <tr>\n",
       "      <th>0</th>\n",
       "      <td>1</td>\n",
       "      <td>100.669318</td>\n",
       "    </tr>\n",
       "    <tr>\n",
       "      <th>1</th>\n",
       "      <td>2</td>\n",
       "      <td>100.669318</td>\n",
       "    </tr>\n",
       "    <tr>\n",
       "      <th>2</th>\n",
       "      <td>3</td>\n",
       "      <td>100.669318</td>\n",
       "    </tr>\n",
       "    <tr>\n",
       "      <th>3</th>\n",
       "      <td>4</td>\n",
       "      <td>100.669318</td>\n",
       "    </tr>\n",
       "    <tr>\n",
       "      <th>4</th>\n",
       "      <td>5</td>\n",
       "      <td>100.669318</td>\n",
       "    </tr>\n",
       "  </tbody>\n",
       "</table>\n",
       "</div>"
      ],
      "text/plain": [
       "   ID           y\n",
       "0   1  100.669318\n",
       "1   2  100.669318\n",
       "2   3  100.669318\n",
       "3   4  100.669318\n",
       "4   5  100.669318"
      ]
     },
     "execution_count": 113,
     "metadata": {},
     "output_type": "execute_result"
    }
   ],
   "source": [
    "sample.head()"
   ]
  },
  {
   "cell_type": "code",
   "execution_count": null,
   "metadata": {
    "collapsed": true
   },
   "outputs": [],
   "source": []
  }
 ],
 "metadata": {
  "kernelspec": {
   "display_name": "Python 2",
   "language": "python",
   "name": "python2"
  },
  "language_info": {
   "codemirror_mode": {
    "name": "ipython",
    "version": 2
   },
   "file_extension": ".py",
   "mimetype": "text/x-python",
   "name": "python",
   "nbconvert_exporter": "python",
   "pygments_lexer": "ipython2",
   "version": "2.7.13"
  }
 },
 "nbformat": 4,
 "nbformat_minor": 2
}
