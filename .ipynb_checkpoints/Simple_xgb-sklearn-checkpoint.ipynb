{
 "cells": [
  {
   "cell_type": "code",
   "execution_count": 14,
   "metadata": {
    "collapsed": false
   },
   "outputs": [],
   "source": [
    "import pandas as pd\n",
    "import numpy as np\n",
    "import xgboost as xgb\n",
    "from sklearn import model_selection, preprocessing\n",
    "from sklearn.metrics import r2_score\n",
    "from sklearn.model_selection import train_test_split\n",
    "from sklearn.model_selection import RandomizedSearchCV\n",
    "from sklearn.metrics import make_scorer\n",
    "from sklearn.model_selection import cross_val_score\n",
    "from xgboost.sklearn import XGBRegressor\n",
    "\n",
    "pd.options.display.max_columns = 100\n",
    "pd.options.display.max_rows = 100\n",
    "import matplotlib.pyplot as plt\n",
    "import seaborn as sns\n",
    "%matplotlib inline "
   ]
  },
  {
   "cell_type": "code",
   "execution_count": 19,
   "metadata": {
    "collapsed": false
   },
   "outputs": [
    {
     "data": {
      "text/plain": [
       "((4209, 312), (4209, 311))"
      ]
     },
     "execution_count": 19,
     "metadata": {},
     "output_type": "execute_result"
    }
   ],
   "source": [
    "df_train = pd.read_csv('clean_train.csv')\n",
    "df_test = pd.read_csv('clean_test.csv')\n",
    "id_test = df_test.ID\n",
    "id_train = df_train.ID\n",
    "df_train.shape, df_test.shape"
   ]
  },
  {
   "cell_type": "code",
   "execution_count": 20,
   "metadata": {
    "collapsed": false
   },
   "outputs": [
    {
     "name": "stdout",
     "output_type": "stream",
     "text": [
      "(4209, 311) (4209, 311) (4209,)\n",
      "(4209, 311) (4209, 311)\n"
     ]
    }
   ],
   "source": [
    "y_train = df_train[\"y\"]\n",
    "x_train = df_train.drop([\"y\"], axis=1)\n",
    "x_test = df_test#.drop([\"ID\"], axis=1)\n",
    "\n",
    "print x_train.shape, x_test.shape, y_train.shape\n",
    "\n",
    "for c in x_train.columns:\n",
    "    if x_train[c].dtype == 'object':\n",
    "        lbl = preprocessing.LabelEncoder()\n",
    "        lbl.fit(list(x_train[c].values)) \n",
    "        x_train[c] = lbl.transform(list(x_train[c].values))\n",
    "        #x_train.drop(c,axis=1,inplace=True)\n",
    "        \n",
    "for c in x_test.columns:\n",
    "    if x_test[c].dtype == 'object':\n",
    "        lbl = preprocessing.LabelEncoder()\n",
    "        lbl.fit(list(x_test[c].values)) \n",
    "        x_test[c] = lbl.transform(list(x_test[c].values))\n",
    "        #x_test.drop(c,axis=1,inplace=True) \n",
    "\n",
    "print x_train.shape, x_test.shape"
   ]
  },
  {
   "cell_type": "code",
   "execution_count": 4,
   "metadata": {
    "collapsed": false
   },
   "outputs": [],
   "source": [
    "x_train, x_valid, y_train, y_valid = train_test_split(x_train, y_train, test_size=0.2, random_state=2020)"
   ]
  },
  {
   "cell_type": "code",
   "execution_count": 77,
   "metadata": {
    "collapsed": true
   },
   "outputs": [],
   "source": [
    "params = {  \n",
    "    \"n_estimators\": range(80, 121, 10),\n",
    "    \"max_depth\": range(1,2),\n",
    "    \"learning_rate\": np.arange(0.01,0.3, 0.01),\n",
    "    \"colsample_bytree\": np.arange(0.3, 0.8, 0.05),\n",
    "    \"subsample\": np.arange(0.3, 0.8, 0.05),\n",
    "    \"gamma\": range(0, 10)\n",
    "#     'reg_alpha': from_zero_positive,\n",
    "#     \"min_child_weight\": from_zero_positive,\n",
    "}\n",
    "iters = 100\n",
    "\n",
    "xgbreg = XGBRegressor()"
   ]
  },
  {
   "cell_type": "code",
   "execution_count": 78,
   "metadata": {
    "collapsed": false
   },
   "outputs": [
    {
     "data": {
      "text/plain": [
       "RandomizedSearchCV(cv=None, error_score='raise',\n",
       "          estimator=XGBRegressor(base_score=0.5, colsample_bylevel=1, colsample_bytree=1, gamma=0,\n",
       "       learning_rate=0.1, max_delta_step=0, max_depth=3,\n",
       "       min_child_weight=1, missing=None, n_estimators=100, nthread=-1,\n",
       "       objective='reg:linear', reg_alpha=0, reg_lambda=1,\n",
       "       scale_pos_weight=1, seed=0, silent=True, subsample=1),\n",
       "          fit_params={}, iid=True, n_iter=100, n_jobs=5,\n",
       "          param_distributions={'colsample_bytree': array([ 0.3 ,  0.35,  0.4 ,  0.45,  0.5 ,  0.55,  0.6 ,  0.65,  0.7 ,  0.75]), 'learning_rate': array([ 0.01,  0.02,  0.03,  0.04,  0.05,  0.06,  0.07,  0.08,  0.09,\n",
       "        0.1 ,  0.11,  0.12,  0.13,  0.14,  0.15,  0.16,  0.17,  0.18,\n",
       "        0.19,  0.2 ,  0....5 ,  0.55,  0.6 ,  0.65,  0.7 ,  0.75]), 'max_depth': [1], 'gamma': [0, 1, 2, 3, 4, 5, 6, 7, 8, 9]},\n",
       "          pre_dispatch='2*n_jobs', random_state=None, refit=True,\n",
       "          return_train_score=True, scoring='r2', verbose=0)"
      ]
     },
     "execution_count": 78,
     "metadata": {},
     "output_type": "execute_result"
    }
   ],
   "source": [
    "gs = RandomizedSearchCV(xgbreg, params, n_iter=iters, n_jobs=5, scoring='r2')#rmsle_scorer)\n",
    "gs.fit(x_train, y_train)"
   ]
  },
  {
   "cell_type": "code",
   "execution_count": 79,
   "metadata": {
    "collapsed": false
   },
   "outputs": [],
   "source": [
    "# gs.cv_results_"
   ]
  },
  {
   "cell_type": "code",
   "execution_count": 80,
   "metadata": {
    "collapsed": false
   },
   "outputs": [],
   "source": [
    "df = pd.DataFrame(gs.cv_results_)"
   ]
  },
  {
   "cell_type": "code",
   "execution_count": 104,
   "metadata": {
    "collapsed": false,
    "scrolled": true
   },
   "outputs": [
    {
     "name": "stderr",
     "output_type": "stream",
     "text": [
      "/home/tseidakhmetov/anaconda2/lib/python2.7/site-packages/ipykernel/__main__.py:8: FutureWarning: sort(columns=....) is deprecated, use sort_values(by=.....)\n",
      "/home/tseidakhmetov/anaconda2/lib/python2.7/site-packages/pandas/core/frame.py:3304: SettingWithCopyWarning: \n",
      "A value is trying to be set on a copy of a slice from a DataFrame\n",
      "\n",
      "See the caveats in the documentation: http://pandas.pydata.org/pandas-docs/stable/indexing.html#indexing-view-versus-copy\n",
      "  na_position=na_position)\n"
     ]
    },
    {
     "data": {
      "text/html": [
       "<div>\n",
       "<table border=\"1\" class=\"dataframe\">\n",
       "  <thead>\n",
       "    <tr style=\"text-align: right;\">\n",
       "      <th></th>\n",
       "      <th>diff</th>\n",
       "      <th>mean</th>\n",
       "      <th>mean_train_score</th>\n",
       "      <th>mean_test_score</th>\n",
       "      <th>mean_fit_time</th>\n",
       "      <th>mean_score_time</th>\n",
       "      <th>param_colsample_bytree</th>\n",
       "      <th>param_gamma</th>\n",
       "      <th>param_learning_rate</th>\n",
       "      <th>param_max_depth</th>\n",
       "      <th>param_n_estimators</th>\n",
       "      <th>param_subsample</th>\n",
       "      <th>params</th>\n",
       "      <th>rank_test_score</th>\n",
       "      <th>split0_test_score</th>\n",
       "      <th>split0_train_score</th>\n",
       "      <th>split1_test_score</th>\n",
       "      <th>split1_train_score</th>\n",
       "      <th>split2_test_score</th>\n",
       "      <th>split2_train_score</th>\n",
       "      <th>std_fit_time</th>\n",
       "      <th>std_score_time</th>\n",
       "      <th>std_test_score</th>\n",
       "      <th>std_train_score</th>\n",
       "    </tr>\n",
       "  </thead>\n",
       "  <tbody>\n",
       "    <tr>\n",
       "      <th>48</th>\n",
       "      <td>0.016862</td>\n",
       "      <td>0.562813</td>\n",
       "      <td>0.571244</td>\n",
       "      <td>0.554382</td>\n",
       "      <td>0.652909</td>\n",
       "      <td>0.044243</td>\n",
       "      <td>0.6</td>\n",
       "      <td>7</td>\n",
       "      <td>0.15</td>\n",
       "      <td>1</td>\n",
       "      <td>90</td>\n",
       "      <td>0.7</td>\n",
       "      <td>{u'colsample_bytree': 0.6, u'learning_rate': 0...</td>\n",
       "      <td>8</td>\n",
       "      <td>0.572326</td>\n",
       "      <td>0.557883</td>\n",
       "      <td>0.594310</td>\n",
       "      <td>0.552319</td>\n",
       "      <td>0.496493</td>\n",
       "      <td>0.603529</td>\n",
       "      <td>0.078160</td>\n",
       "      <td>0.004064</td>\n",
       "      <td>0.041897</td>\n",
       "      <td>0.022942</td>\n",
       "    </tr>\n",
       "    <tr>\n",
       "      <th>53</th>\n",
       "      <td>0.017992</td>\n",
       "      <td>0.563227</td>\n",
       "      <td>0.572223</td>\n",
       "      <td>0.554230</td>\n",
       "      <td>0.686188</td>\n",
       "      <td>0.048960</td>\n",
       "      <td>0.6</td>\n",
       "      <td>8</td>\n",
       "      <td>0.12</td>\n",
       "      <td>1</td>\n",
       "      <td>110</td>\n",
       "      <td>0.45</td>\n",
       "      <td>{u'colsample_bytree': 0.6, u'learning_rate': 0...</td>\n",
       "      <td>10</td>\n",
       "      <td>0.572666</td>\n",
       "      <td>0.557979</td>\n",
       "      <td>0.594186</td>\n",
       "      <td>0.553320</td>\n",
       "      <td>0.495823</td>\n",
       "      <td>0.605370</td>\n",
       "      <td>0.040531</td>\n",
       "      <td>0.001609</td>\n",
       "      <td>0.042216</td>\n",
       "      <td>0.023516</td>\n",
       "    </tr>\n",
       "    <tr>\n",
       "      <th>5</th>\n",
       "      <td>0.015301</td>\n",
       "      <td>0.561274</td>\n",
       "      <td>0.568924</td>\n",
       "      <td>0.553623</td>\n",
       "      <td>0.701105</td>\n",
       "      <td>0.051632</td>\n",
       "      <td>0.45</td>\n",
       "      <td>0</td>\n",
       "      <td>0.13</td>\n",
       "      <td>1</td>\n",
       "      <td>100</td>\n",
       "      <td>0.75</td>\n",
       "      <td>{u'colsample_bytree': 0.45, u'learning_rate': ...</td>\n",
       "      <td>15</td>\n",
       "      <td>0.569890</td>\n",
       "      <td>0.555224</td>\n",
       "      <td>0.595424</td>\n",
       "      <td>0.550399</td>\n",
       "      <td>0.495542</td>\n",
       "      <td>0.601149</td>\n",
       "      <td>0.080903</td>\n",
       "      <td>0.001847</td>\n",
       "      <td>0.042363</td>\n",
       "      <td>0.022872</td>\n",
       "    </tr>\n",
       "    <tr>\n",
       "      <th>78</th>\n",
       "      <td>0.017620</td>\n",
       "      <td>0.561438</td>\n",
       "      <td>0.570248</td>\n",
       "      <td>0.552628</td>\n",
       "      <td>0.688826</td>\n",
       "      <td>0.047011</td>\n",
       "      <td>0.45</td>\n",
       "      <td>9</td>\n",
       "      <td>0.13</td>\n",
       "      <td>1</td>\n",
       "      <td>100</td>\n",
       "      <td>0.55</td>\n",
       "      <td>{u'colsample_bytree': 0.45, u'learning_rate': ...</td>\n",
       "      <td>31</td>\n",
       "      <td>0.567891</td>\n",
       "      <td>0.556622</td>\n",
       "      <td>0.594645</td>\n",
       "      <td>0.550836</td>\n",
       "      <td>0.495335</td>\n",
       "      <td>0.603287</td>\n",
       "      <td>0.096899</td>\n",
       "      <td>0.000747</td>\n",
       "      <td>0.041951</td>\n",
       "      <td>0.023481</td>\n",
       "    </tr>\n",
       "    <tr>\n",
       "      <th>27</th>\n",
       "      <td>0.018624</td>\n",
       "      <td>0.561929</td>\n",
       "      <td>0.571241</td>\n",
       "      <td>0.552618</td>\n",
       "      <td>0.883304</td>\n",
       "      <td>0.056795</td>\n",
       "      <td>0.65</td>\n",
       "      <td>5</td>\n",
       "      <td>0.12</td>\n",
       "      <td>1</td>\n",
       "      <td>110</td>\n",
       "      <td>0.65</td>\n",
       "      <td>{u'colsample_bytree': 0.65, u'learning_rate': ...</td>\n",
       "      <td>32</td>\n",
       "      <td>0.566566</td>\n",
       "      <td>0.557235</td>\n",
       "      <td>0.595811</td>\n",
       "      <td>0.552856</td>\n",
       "      <td>0.495464</td>\n",
       "      <td>0.603631</td>\n",
       "      <td>0.133734</td>\n",
       "      <td>0.009473</td>\n",
       "      <td>0.042132</td>\n",
       "      <td>0.022973</td>\n",
       "    </tr>\n",
       "    <tr>\n",
       "      <th>88</th>\n",
       "      <td>0.019429</td>\n",
       "      <td>0.561400</td>\n",
       "      <td>0.571114</td>\n",
       "      <td>0.551685</td>\n",
       "      <td>0.656423</td>\n",
       "      <td>0.046997</td>\n",
       "      <td>0.7</td>\n",
       "      <td>1</td>\n",
       "      <td>0.17</td>\n",
       "      <td>1</td>\n",
       "      <td>80</td>\n",
       "      <td>0.75</td>\n",
       "      <td>{u'colsample_bytree': 0.7, u'learning_rate': 0...</td>\n",
       "      <td>38</td>\n",
       "      <td>0.562011</td>\n",
       "      <td>0.557526</td>\n",
       "      <td>0.596140</td>\n",
       "      <td>0.552088</td>\n",
       "      <td>0.496896</td>\n",
       "      <td>0.603728</td>\n",
       "      <td>0.074970</td>\n",
       "      <td>0.000837</td>\n",
       "      <td>0.041164</td>\n",
       "      <td>0.023168</td>\n",
       "    </tr>\n",
       "    <tr>\n",
       "      <th>37</th>\n",
       "      <td>0.012027</td>\n",
       "      <td>0.557677</td>\n",
       "      <td>0.563691</td>\n",
       "      <td>0.551664</td>\n",
       "      <td>0.611699</td>\n",
       "      <td>0.046192</td>\n",
       "      <td>0.4</td>\n",
       "      <td>8</td>\n",
       "      <td>0.12</td>\n",
       "      <td>1</td>\n",
       "      <td>90</td>\n",
       "      <td>0.65</td>\n",
       "      <td>{u'colsample_bytree': 0.4, u'learning_rate': 0...</td>\n",
       "      <td>39</td>\n",
       "      <td>0.565235</td>\n",
       "      <td>0.549363</td>\n",
       "      <td>0.593962</td>\n",
       "      <td>0.545551</td>\n",
       "      <td>0.495782</td>\n",
       "      <td>0.596159</td>\n",
       "      <td>0.013237</td>\n",
       "      <td>0.006855</td>\n",
       "      <td>0.041210</td>\n",
       "      <td>0.023011</td>\n",
       "    </tr>\n",
       "    <tr>\n",
       "      <th>91</th>\n",
       "      <td>0.017309</td>\n",
       "      <td>0.560260</td>\n",
       "      <td>0.568914</td>\n",
       "      <td>0.551606</td>\n",
       "      <td>0.682702</td>\n",
       "      <td>0.055784</td>\n",
       "      <td>0.3</td>\n",
       "      <td>7</td>\n",
       "      <td>0.14</td>\n",
       "      <td>1</td>\n",
       "      <td>100</td>\n",
       "      <td>0.7</td>\n",
       "      <td>{u'colsample_bytree': 0.3, u'learning_rate': 0...</td>\n",
       "      <td>41</td>\n",
       "      <td>0.563073</td>\n",
       "      <td>0.554090</td>\n",
       "      <td>0.594169</td>\n",
       "      <td>0.551033</td>\n",
       "      <td>0.497565</td>\n",
       "      <td>0.601619</td>\n",
       "      <td>0.070128</td>\n",
       "      <td>0.008318</td>\n",
       "      <td>0.040259</td>\n",
       "      <td>0.023159</td>\n",
       "    </tr>\n",
       "    <tr>\n",
       "      <th>87</th>\n",
       "      <td>0.018168</td>\n",
       "      <td>0.560369</td>\n",
       "      <td>0.569453</td>\n",
       "      <td>0.551286</td>\n",
       "      <td>0.701383</td>\n",
       "      <td>0.051615</td>\n",
       "      <td>0.7</td>\n",
       "      <td>0</td>\n",
       "      <td>0.12</td>\n",
       "      <td>1</td>\n",
       "      <td>100</td>\n",
       "      <td>0.55</td>\n",
       "      <td>{u'colsample_bytree': 0.7, u'learning_rate': 0...</td>\n",
       "      <td>44</td>\n",
       "      <td>0.564253</td>\n",
       "      <td>0.555320</td>\n",
       "      <td>0.594228</td>\n",
       "      <td>0.551103</td>\n",
       "      <td>0.495364</td>\n",
       "      <td>0.601936</td>\n",
       "      <td>0.068835</td>\n",
       "      <td>0.011225</td>\n",
       "      <td>0.041385</td>\n",
       "      <td>0.023034</td>\n",
       "    </tr>\n",
       "    <tr>\n",
       "      <th>26</th>\n",
       "      <td>0.018168</td>\n",
       "      <td>0.560369</td>\n",
       "      <td>0.569453</td>\n",
       "      <td>0.551286</td>\n",
       "      <td>0.740707</td>\n",
       "      <td>0.056304</td>\n",
       "      <td>0.7</td>\n",
       "      <td>8</td>\n",
       "      <td>0.12</td>\n",
       "      <td>1</td>\n",
       "      <td>100</td>\n",
       "      <td>0.55</td>\n",
       "      <td>{u'colsample_bytree': 0.7, u'learning_rate': 0...</td>\n",
       "      <td>44</td>\n",
       "      <td>0.564253</td>\n",
       "      <td>0.555320</td>\n",
       "      <td>0.594228</td>\n",
       "      <td>0.551103</td>\n",
       "      <td>0.495364</td>\n",
       "      <td>0.601936</td>\n",
       "      <td>0.092743</td>\n",
       "      <td>0.006593</td>\n",
       "      <td>0.041385</td>\n",
       "      <td>0.023034</td>\n",
       "    </tr>\n",
       "    <tr>\n",
       "      <th>66</th>\n",
       "      <td>0.018723</td>\n",
       "      <td>0.560535</td>\n",
       "      <td>0.569897</td>\n",
       "      <td>0.551173</td>\n",
       "      <td>0.613672</td>\n",
       "      <td>0.049008</td>\n",
       "      <td>0.5</td>\n",
       "      <td>9</td>\n",
       "      <td>0.16</td>\n",
       "      <td>1</td>\n",
       "      <td>80</td>\n",
       "      <td>0.5</td>\n",
       "      <td>{u'colsample_bytree': 0.5, u'learning_rate': 0...</td>\n",
       "      <td>47</td>\n",
       "      <td>0.564340</td>\n",
       "      <td>0.556197</td>\n",
       "      <td>0.594246</td>\n",
       "      <td>0.550496</td>\n",
       "      <td>0.494923</td>\n",
       "      <td>0.602997</td>\n",
       "      <td>0.086064</td>\n",
       "      <td>0.002483</td>\n",
       "      <td>0.041599</td>\n",
       "      <td>0.023521</td>\n",
       "    </tr>\n",
       "    <tr>\n",
       "      <th>28</th>\n",
       "      <td>0.016666</td>\n",
       "      <td>0.558347</td>\n",
       "      <td>0.566680</td>\n",
       "      <td>0.550014</td>\n",
       "      <td>0.762148</td>\n",
       "      <td>0.048875</td>\n",
       "      <td>0.4</td>\n",
       "      <td>2</td>\n",
       "      <td>0.12</td>\n",
       "      <td>1</td>\n",
       "      <td>100</td>\n",
       "      <td>0.4</td>\n",
       "      <td>{u'colsample_bytree': 0.4, u'learning_rate': 0...</td>\n",
       "      <td>51</td>\n",
       "      <td>0.566908</td>\n",
       "      <td>0.552939</td>\n",
       "      <td>0.592712</td>\n",
       "      <td>0.547865</td>\n",
       "      <td>0.490406</td>\n",
       "      <td>0.599235</td>\n",
       "      <td>0.065178</td>\n",
       "      <td>0.010021</td>\n",
       "      <td>0.043436</td>\n",
       "      <td>0.023113</td>\n",
       "    </tr>\n",
       "  </tbody>\n",
       "</table>\n",
       "</div>"
      ],
      "text/plain": [
       "        diff      mean  mean_train_score  mean_test_score  mean_fit_time  \\\n",
       "48  0.016862  0.562813          0.571244         0.554382       0.652909   \n",
       "53  0.017992  0.563227          0.572223         0.554230       0.686188   \n",
       "5   0.015301  0.561274          0.568924         0.553623       0.701105   \n",
       "78  0.017620  0.561438          0.570248         0.552628       0.688826   \n",
       "27  0.018624  0.561929          0.571241         0.552618       0.883304   \n",
       "88  0.019429  0.561400          0.571114         0.551685       0.656423   \n",
       "37  0.012027  0.557677          0.563691         0.551664       0.611699   \n",
       "91  0.017309  0.560260          0.568914         0.551606       0.682702   \n",
       "87  0.018168  0.560369          0.569453         0.551286       0.701383   \n",
       "26  0.018168  0.560369          0.569453         0.551286       0.740707   \n",
       "66  0.018723  0.560535          0.569897         0.551173       0.613672   \n",
       "28  0.016666  0.558347          0.566680         0.550014       0.762148   \n",
       "\n",
       "    mean_score_time param_colsample_bytree param_gamma param_learning_rate  \\\n",
       "48         0.044243                    0.6           7                0.15   \n",
       "53         0.048960                    0.6           8                0.12   \n",
       "5          0.051632                   0.45           0                0.13   \n",
       "78         0.047011                   0.45           9                0.13   \n",
       "27         0.056795                   0.65           5                0.12   \n",
       "88         0.046997                    0.7           1                0.17   \n",
       "37         0.046192                    0.4           8                0.12   \n",
       "91         0.055784                    0.3           7                0.14   \n",
       "87         0.051615                    0.7           0                0.12   \n",
       "26         0.056304                    0.7           8                0.12   \n",
       "66         0.049008                    0.5           9                0.16   \n",
       "28         0.048875                    0.4           2                0.12   \n",
       "\n",
       "   param_max_depth param_n_estimators param_subsample  \\\n",
       "48               1                 90             0.7   \n",
       "53               1                110            0.45   \n",
       "5                1                100            0.75   \n",
       "78               1                100            0.55   \n",
       "27               1                110            0.65   \n",
       "88               1                 80            0.75   \n",
       "37               1                 90            0.65   \n",
       "91               1                100             0.7   \n",
       "87               1                100            0.55   \n",
       "26               1                100            0.55   \n",
       "66               1                 80             0.5   \n",
       "28               1                100             0.4   \n",
       "\n",
       "                                               params  rank_test_score  \\\n",
       "48  {u'colsample_bytree': 0.6, u'learning_rate': 0...                8   \n",
       "53  {u'colsample_bytree': 0.6, u'learning_rate': 0...               10   \n",
       "5   {u'colsample_bytree': 0.45, u'learning_rate': ...               15   \n",
       "78  {u'colsample_bytree': 0.45, u'learning_rate': ...               31   \n",
       "27  {u'colsample_bytree': 0.65, u'learning_rate': ...               32   \n",
       "88  {u'colsample_bytree': 0.7, u'learning_rate': 0...               38   \n",
       "37  {u'colsample_bytree': 0.4, u'learning_rate': 0...               39   \n",
       "91  {u'colsample_bytree': 0.3, u'learning_rate': 0...               41   \n",
       "87  {u'colsample_bytree': 0.7, u'learning_rate': 0...               44   \n",
       "26  {u'colsample_bytree': 0.7, u'learning_rate': 0...               44   \n",
       "66  {u'colsample_bytree': 0.5, u'learning_rate': 0...               47   \n",
       "28  {u'colsample_bytree': 0.4, u'learning_rate': 0...               51   \n",
       "\n",
       "    split0_test_score  split0_train_score  split1_test_score  \\\n",
       "48           0.572326            0.557883           0.594310   \n",
       "53           0.572666            0.557979           0.594186   \n",
       "5            0.569890            0.555224           0.595424   \n",
       "78           0.567891            0.556622           0.594645   \n",
       "27           0.566566            0.557235           0.595811   \n",
       "88           0.562011            0.557526           0.596140   \n",
       "37           0.565235            0.549363           0.593962   \n",
       "91           0.563073            0.554090           0.594169   \n",
       "87           0.564253            0.555320           0.594228   \n",
       "26           0.564253            0.555320           0.594228   \n",
       "66           0.564340            0.556197           0.594246   \n",
       "28           0.566908            0.552939           0.592712   \n",
       "\n",
       "    split1_train_score  split2_test_score  split2_train_score  std_fit_time  \\\n",
       "48            0.552319           0.496493            0.603529      0.078160   \n",
       "53            0.553320           0.495823            0.605370      0.040531   \n",
       "5             0.550399           0.495542            0.601149      0.080903   \n",
       "78            0.550836           0.495335            0.603287      0.096899   \n",
       "27            0.552856           0.495464            0.603631      0.133734   \n",
       "88            0.552088           0.496896            0.603728      0.074970   \n",
       "37            0.545551           0.495782            0.596159      0.013237   \n",
       "91            0.551033           0.497565            0.601619      0.070128   \n",
       "87            0.551103           0.495364            0.601936      0.068835   \n",
       "26            0.551103           0.495364            0.601936      0.092743   \n",
       "66            0.550496           0.494923            0.602997      0.086064   \n",
       "28            0.547865           0.490406            0.599235      0.065178   \n",
       "\n",
       "    std_score_time  std_test_score  std_train_score  \n",
       "48        0.004064        0.041897         0.022942  \n",
       "53        0.001609        0.042216         0.023516  \n",
       "5         0.001847        0.042363         0.022872  \n",
       "78        0.000747        0.041951         0.023481  \n",
       "27        0.009473        0.042132         0.022973  \n",
       "88        0.000837        0.041164         0.023168  \n",
       "37        0.006855        0.041210         0.023011  \n",
       "91        0.008318        0.040259         0.023159  \n",
       "87        0.011225        0.041385         0.023034  \n",
       "26        0.006593        0.041385         0.023034  \n",
       "66        0.002483        0.041599         0.023521  \n",
       "28        0.010021        0.043436         0.023113  "
      ]
     },
     "execution_count": 104,
     "metadata": {},
     "output_type": "execute_result"
    }
   ],
   "source": [
    "df['diff'] = abs(df['mean_test_score'] - df['mean_train_score'])\n",
    "df['mean'] = df[['mean_test_score', 'mean_train_score']].mean(axis=1)\n",
    "priority_cols = ['diff', 'mean', 'mean_train_score','mean_test_score']\n",
    "df = df[priority_cols + list(df.columns.drop(priority_cols))]\n",
    "\n",
    "subset = df[(df['mean_test_score'] > 0.55) & (df['diff'] < 0.02)]\n",
    "# df.sort(columns=['diff'], inplace=True, ascending=True)\n",
    "subset.sort(columns=['mean_test_score'], inplace=True, ascending=False)\n",
    "subset"
   ]
  },
  {
   "cell_type": "code",
   "execution_count": 54,
   "metadata": {
    "collapsed": false
   },
   "outputs": [
    {
     "data": {
      "text/plain": [
       "{'colsample_bytree': 0.79999999999999982,\n",
       " 'gamma': 8,\n",
       " 'learning_rate': 0.050000000000000003,\n",
       " 'max_depth': 2,\n",
       " 'subsample': 0.34999999999999998}"
      ]
     },
     "execution_count": 54,
     "metadata": {},
     "output_type": "execute_result"
    }
   ],
   "source": [
    "df.ix[97].params"
   ]
  },
  {
   "cell_type": "code",
   "execution_count": 7,
   "metadata": {
    "collapsed": false,
    "scrolled": true
   },
   "outputs": [
    {
     "data": {
      "text/plain": [
       "0.57136525821272444"
      ]
     },
     "execution_count": 7,
     "metadata": {},
     "output_type": "execute_result"
    }
   ],
   "source": [
    "gs.best_score_"
   ]
  },
  {
   "cell_type": "code",
   "execution_count": 5,
   "metadata": {
    "collapsed": false
   },
   "outputs": [
    {
     "data": {
      "text/plain": [
       "XGBRegressor(base_score=0.5, colsample_bylevel=1, colsample_bytree=0.4,\n",
       "       gamma=1, learning_rate=0.09, max_delta_step=0, max_depth=2,\n",
       "       min_child_weight=1, missing=None, n_estimators=100, nthread=3,\n",
       "       objective='reg:linear', reg_alpha=0, reg_lambda=1,\n",
       "       scale_pos_weight=1, seed=2017, silent=True, subsample=0.9)"
      ]
     },
     "execution_count": 5,
     "metadata": {},
     "output_type": "execute_result"
    }
   ],
   "source": [
    "# model = gs.best_estimator_\n",
    "\n",
    "# model = XGBRegressor(colsample_bytree = 0.6,\n",
    "#                      gamma =  7,\n",
    "#                      learning_rate = 0.15,\n",
    "#                      max_depth = 1,\n",
    "#                      n_estimators = 90,\n",
    "#                      subsample = 0.7)\n",
    "model = XGBRegressor(colsample_bytree = 0.4,\n",
    "                     gamma =  1,\n",
    "                     learning_rate = 0.09,\n",
    "                     max_depth = 2,\n",
    "                     n_estimators = 100,\n",
    "                     nthread = 3,\n",
    "                     seed=2017,\n",
    "                     subsample = 0.9)\n",
    "model.fit(x_train, y_train)"
   ]
  },
  {
   "cell_type": "code",
   "execution_count": 6,
   "metadata": {
    "collapsed": false
   },
   "outputs": [
    {
     "name": "stdout",
     "output_type": "stream",
     "text": [
      "[ 0.60139482  0.57479816  0.60967837  0.46828866  0.61033237]\n",
      "0.572898477659\n"
     ]
    }
   ],
   "source": [
    "cv_scores = cross_val_score(model, x_train, y_train, scoring='r2', cv=5)\n",
    "print cv_scores\n",
    "print np.mean(cv_scores)"
   ]
  },
  {
   "cell_type": "code",
   "execution_count": 7,
   "metadata": {
    "collapsed": false
   },
   "outputs": [
    {
     "name": "stdout",
     "output_type": "stream",
     "text": [
      "Train: 0.595457979099\n",
      "Val: 0.564799912711\n"
     ]
    }
   ],
   "source": [
    "y_pred_tr = model.predict(x_train)\n",
    "print 'Train:', r2_score(y_train, y_pred_tr)\n",
    "\n",
    "y_pred_val = model.predict(x_valid)\n",
    "print 'Val:', r2_score(y_valid, y_pred_val)\n",
    "# Train: ('r2', 0.60473081638029402)\n",
    "# Val: ('r2', 0.56729882111087759)\n",
    "\n",
    "# Train: ('r2', 0.59019025799407598)\n",
    "# Val: ('r2', 0.56887638635435567)\n",
    "\n",
    "# 0.6\n",
    "# Train: ('r2', 0.58691791141382998)\n",
    "# Val: ('r2', 0.5681459527865238)"
   ]
  },
  {
   "cell_type": "code",
   "execution_count": 23,
   "metadata": {
    "collapsed": false
   },
   "outputs": [
    {
     "name": "stdout",
     "output_type": "stream",
     "text": [
      "(4209, 3)\n"
     ]
    },
    {
     "data": {
      "text/html": [
       "<div>\n",
       "<table border=\"1\" class=\"dataframe\">\n",
       "  <thead>\n",
       "    <tr style=\"text-align: right;\">\n",
       "      <th></th>\n",
       "      <th>ID</th>\n",
       "      <th>y</th>\n",
       "      <th>y_actual</th>\n",
       "    </tr>\n",
       "  </thead>\n",
       "  <tbody>\n",
       "    <tr>\n",
       "      <th>0</th>\n",
       "      <td>0</td>\n",
       "      <td>112.488533</td>\n",
       "      <td>130.81</td>\n",
       "    </tr>\n",
       "    <tr>\n",
       "      <th>1</th>\n",
       "      <td>6</td>\n",
       "      <td>96.286659</td>\n",
       "      <td>88.53</td>\n",
       "    </tr>\n",
       "    <tr>\n",
       "      <th>2</th>\n",
       "      <td>7</td>\n",
       "      <td>82.812004</td>\n",
       "      <td>76.26</td>\n",
       "    </tr>\n",
       "    <tr>\n",
       "      <th>3</th>\n",
       "      <td>9</td>\n",
       "      <td>79.370132</td>\n",
       "      <td>80.62</td>\n",
       "    </tr>\n",
       "    <tr>\n",
       "      <th>4</th>\n",
       "      <td>13</td>\n",
       "      <td>81.264946</td>\n",
       "      <td>78.02</td>\n",
       "    </tr>\n",
       "  </tbody>\n",
       "</table>\n",
       "</div>"
      ],
      "text/plain": [
       "   ID           y  y_actual\n",
       "0   0  112.488533    130.81\n",
       "1   6   96.286659     88.53\n",
       "2   7   82.812004     76.26\n",
       "3   9   79.370132     80.62\n",
       "4  13   81.264946     78.02"
      ]
     },
     "execution_count": 23,
     "metadata": {},
     "output_type": "execute_result"
    }
   ],
   "source": [
    "y_predict = model.predict(x_train)\n",
    "output = pd.DataFrame({'ID': id_train, 'y_actual': y_train, 'y': y_predict})\n",
    "print output.shape\n",
    "output.head()"
   ]
  },
  {
   "cell_type": "code",
   "execution_count": 24,
   "metadata": {
    "collapsed": true
   },
   "outputs": [],
   "source": [
    "output.to_csv('train_preds/xgb_sklearn100_ix48.csv', index=False)"
   ]
  },
  {
   "cell_type": "code",
   "execution_count": 10,
   "metadata": {
    "collapsed": false
   },
   "outputs": [
    {
     "data": {
      "text/html": [
       "<div>\n",
       "<table border=\"1\" class=\"dataframe\">\n",
       "  <thead>\n",
       "    <tr style=\"text-align: right;\">\n",
       "      <th></th>\n",
       "      <th>ID</th>\n",
       "      <th>y</th>\n",
       "    </tr>\n",
       "  </thead>\n",
       "  <tbody>\n",
       "    <tr>\n",
       "      <th>0</th>\n",
       "      <td>1</td>\n",
       "      <td>86.574738</td>\n",
       "    </tr>\n",
       "    <tr>\n",
       "      <th>1</th>\n",
       "      <td>2</td>\n",
       "      <td>103.893013</td>\n",
       "    </tr>\n",
       "    <tr>\n",
       "      <th>2</th>\n",
       "      <td>3</td>\n",
       "      <td>83.002457</td>\n",
       "    </tr>\n",
       "    <tr>\n",
       "      <th>3</th>\n",
       "      <td>4</td>\n",
       "      <td>79.078148</td>\n",
       "    </tr>\n",
       "    <tr>\n",
       "      <th>4</th>\n",
       "      <td>5</td>\n",
       "      <td>117.709808</td>\n",
       "    </tr>\n",
       "  </tbody>\n",
       "</table>\n",
       "</div>"
      ],
      "text/plain": [
       "   ID           y\n",
       "0   1   86.574738\n",
       "1   2  103.893013\n",
       "2   3   83.002457\n",
       "3   4   79.078148\n",
       "4   5  117.709808"
      ]
     },
     "execution_count": 10,
     "metadata": {},
     "output_type": "execute_result"
    }
   ],
   "source": [
    "y_predict = model.predict(x_test)\n",
    "output = pd.DataFrame({'ID': id_test, 'y': y_predict})\n",
    "output.head()"
   ]
  },
  {
   "cell_type": "code",
   "execution_count": 11,
   "metadata": {
    "collapsed": false
   },
   "outputs": [],
   "source": [
    "output.to_csv('submissions/xgb_sklearn100_ix48.csv', index=False)"
   ]
  },
  {
   "cell_type": "code",
   "execution_count": 64,
   "metadata": {
    "collapsed": false
   },
   "outputs": [
    {
     "data": {
      "text/plain": [
       "(4209, 2)"
      ]
     },
     "execution_count": 64,
     "metadata": {},
     "output_type": "execute_result"
    }
   ],
   "source": [
    "output.shape"
   ]
  },
  {
   "cell_type": "code",
   "execution_count": 65,
   "metadata": {
    "collapsed": false
   },
   "outputs": [
    {
     "data": {
      "text/plain": [
       "(4209, 2)"
      ]
     },
     "execution_count": 65,
     "metadata": {},
     "output_type": "execute_result"
    }
   ],
   "source": [
    "sample = pd.read_csv('sample_submission.csv')\n",
    "sample.shape"
   ]
  },
  {
   "cell_type": "code",
   "execution_count": 66,
   "metadata": {
    "collapsed": false
   },
   "outputs": [
    {
     "data": {
      "text/html": [
       "<div>\n",
       "<table border=\"1\" class=\"dataframe\">\n",
       "  <thead>\n",
       "    <tr style=\"text-align: right;\">\n",
       "      <th></th>\n",
       "      <th>ID</th>\n",
       "      <th>y</th>\n",
       "    </tr>\n",
       "  </thead>\n",
       "  <tbody>\n",
       "    <tr>\n",
       "      <th>0</th>\n",
       "      <td>1</td>\n",
       "      <td>100.669318</td>\n",
       "    </tr>\n",
       "    <tr>\n",
       "      <th>1</th>\n",
       "      <td>2</td>\n",
       "      <td>100.669318</td>\n",
       "    </tr>\n",
       "    <tr>\n",
       "      <th>2</th>\n",
       "      <td>3</td>\n",
       "      <td>100.669318</td>\n",
       "    </tr>\n",
       "    <tr>\n",
       "      <th>3</th>\n",
       "      <td>4</td>\n",
       "      <td>100.669318</td>\n",
       "    </tr>\n",
       "    <tr>\n",
       "      <th>4</th>\n",
       "      <td>5</td>\n",
       "      <td>100.669318</td>\n",
       "    </tr>\n",
       "  </tbody>\n",
       "</table>\n",
       "</div>"
      ],
      "text/plain": [
       "   ID           y\n",
       "0   1  100.669318\n",
       "1   2  100.669318\n",
       "2   3  100.669318\n",
       "3   4  100.669318\n",
       "4   5  100.669318"
      ]
     },
     "execution_count": 66,
     "metadata": {},
     "output_type": "execute_result"
    }
   ],
   "source": [
    "sample.head()"
   ]
  },
  {
   "cell_type": "code",
   "execution_count": 12,
   "metadata": {
    "collapsed": false
   },
   "outputs": [
    {
     "ename": "AttributeError",
     "evalue": "'XGBRegressor' object has no attribute 'feature_importances_'",
     "output_type": "error",
     "traceback": [
      "\u001b[0;31m---------------------------------------------------------------------------\u001b[0m",
      "\u001b[0;31mAttributeError\u001b[0m                            Traceback (most recent call last)",
      "\u001b[0;32m<ipython-input-12-2074c479ceca>\u001b[0m in \u001b[0;36m<module>\u001b[0;34m()\u001b[0m\n\u001b[0;32m----> 1\u001b[0;31m \u001b[0mmodel\u001b[0m\u001b[0;34m.\u001b[0m\u001b[0mfeature_importances_\u001b[0m\u001b[0;34m\u001b[0m\u001b[0m\n\u001b[0m",
      "\u001b[0;31mAttributeError\u001b[0m: 'XGBRegressor' object has no attribute 'feature_importances_'"
     ]
    }
   ],
   "source": [
    "model.feature_importances_"
   ]
  },
  {
   "cell_type": "code",
   "execution_count": null,
   "metadata": {
    "collapsed": true
   },
   "outputs": [],
   "source": []
  }
 ],
 "metadata": {
  "kernelspec": {
   "display_name": "Python 2",
   "language": "python",
   "name": "python2"
  },
  "language_info": {
   "codemirror_mode": {
    "name": "ipython",
    "version": 2
   },
   "file_extension": ".py",
   "mimetype": "text/x-python",
   "name": "python",
   "nbconvert_exporter": "python",
   "pygments_lexer": "ipython2",
   "version": "2.7.13"
  }
 },
 "nbformat": 4,
 "nbformat_minor": 2
}
