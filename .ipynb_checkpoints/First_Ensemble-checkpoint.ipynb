{
 "cells": [
  {
   "cell_type": "code",
   "execution_count": 91,
   "metadata": {
    "collapsed": false
   },
   "outputs": [],
   "source": [
    "import pandas as pd\n",
    "import numpy as np\n",
    "import os\n",
    "from os.path import join\n",
    "from sklearn.metrics import r2_score\n",
    "from sklearn.model_selection import cross_val_score"
   ]
  },
  {
   "cell_type": "code",
   "execution_count": 32,
   "metadata": {
    "collapsed": true
   },
   "outputs": [],
   "source": [
    "df_train = pd.read_csv('clean_train.csv')\n",
    "df_test = pd.read_csv('clean_test.csv')\n",
    "id_test = df_test.ID"
   ]
  },
  {
   "cell_type": "code",
   "execution_count": 79,
   "metadata": {
    "collapsed": false,
    "scrolled": true
   },
   "outputs": [
    {
     "name": "stdout",
     "output_type": "stream",
     "text": [
      "(4209, 3) xgb1_fixed_lte10data_thrown+id_cosample0606.csv\n",
      "(4209, 3)\n",
      "(4209, 3) xgb_rf100_ix83.csv\n",
      "(4209, 4)\n",
      "(4209, 3) xgb_sklearn100_ix48.csv\n",
      "(4209, 5)\n",
      "(4209, 2) xgb1_fixed_lte10data_thrown+id_cosample0606.csv\n",
      "(4209, 2)\n",
      "(4209, 2) xgb_rf100_ix83.csv\n",
      "(4209, 3)\n",
      "(4209, 2) xgb_sklearn100_ix48.csv\n",
      "(4209, 4)\n"
     ]
    }
   ],
   "source": [
    "train_preds = pd.DataFrame()\n",
    "for csv in os.listdir('train_preds'):\n",
    "    df = pd.read_csv(join('train_preds', csv))\n",
    "    print df.shape, csv\n",
    "#     print df\n",
    "    df.columns = ['ID', csv[:-4], 'y']\n",
    "    if train_preds.empty:\n",
    "        train_preds = df\n",
    "    else:\n",
    "        train_preds = pd.merge(train_preds, df, on=['ID', 'y'], how='inner')\n",
    "    print train_preds.shape\n",
    "\n",
    "submission_preds = pd.DataFrame()\n",
    "for csv in os.listdir('train_preds'):\n",
    "    df = pd.read_csv(join('submissions', csv))\n",
    "    print df.shape, csv\n",
    "    df.columns = ['ID', csv[:-4]]\n",
    "    if submission_preds.empty:\n",
    "        submission_preds = df\n",
    "    else:\n",
    "        submission_preds = pd.merge(submission_preds, df, on='ID')\n",
    "    print submission_preds.shape"
   ]
  },
  {
   "cell_type": "code",
   "execution_count": 80,
   "metadata": {
    "collapsed": false
   },
   "outputs": [
    {
     "data": {
      "text/plain": [
       "((4209, 5), (4209, 4))"
      ]
     },
     "execution_count": 80,
     "metadata": {},
     "output_type": "execute_result"
    }
   ],
   "source": [
    "train_preds.shape, submission_preds.shape"
   ]
  },
  {
   "cell_type": "code",
   "execution_count": 81,
   "metadata": {
    "collapsed": false
   },
   "outputs": [
    {
     "name": "stdout",
     "output_type": "stream",
     "text": [
      "(4209, 5)\n",
      "(4209, 8)\n"
     ]
    }
   ],
   "source": [
    "print train_preds.shape\n",
    "train_preds = train_preds.merge(df_train[['ID', 'X315', 'X314', 'X261', 'y']], on=['ID', 'y'], how='left')\n",
    "print train_preds.shape\n",
    "x_train = train_preds[['xgb1_fixed_lte10data_thrown+id_cosample0606', 'xgb_rf100_ix83', 'xgb_sklearn100_ix48', 'X315', 'X314', 'X261']]\n",
    "y_train = train_preds[['y']]"
   ]
  },
  {
   "cell_type": "code",
   "execution_count": 82,
   "metadata": {
    "collapsed": false
   },
   "outputs": [
    {
     "name": "stdout",
     "output_type": "stream",
     "text": [
      "(4209, 4)\n",
      "(4209, 7)\n"
     ]
    }
   ],
   "source": [
    "print submission_preds.shape\n",
    "submission_preds = submission_preds.merge(df_test[['ID', 'X315', 'X314', 'X261']], on=['ID'], how='left')\n",
    "print submission_preds.shape\n",
    "x_submission = submission_preds[['xgb1_fixed_lte10data_thrown+id_cosample0606', 'xgb_rf100_ix83', 'xgb_sklearn100_ix48', 'X315', 'X314', 'X261']]"
   ]
  },
  {
   "cell_type": "code",
   "execution_count": 84,
   "metadata": {
    "collapsed": false
   },
   "outputs": [
    {
     "data": {
      "text/plain": [
       "LinearRegression(copy_X=True, fit_intercept=True, n_jobs=1, normalize=False)"
      ]
     },
     "execution_count": 84,
     "metadata": {},
     "output_type": "execute_result"
    }
   ],
   "source": [
    "from sklearn import linear_model\n",
    "stacker= linear_model.LinearRegression()\n",
    "stacker.fit(x_train, y_train)"
   ]
  },
  {
   "cell_type": "code",
   "execution_count": 92,
   "metadata": {
    "collapsed": false
   },
   "outputs": [
    {
     "name": "stdout",
     "output_type": "stream",
     "text": [
      "Train: 0.593140241971\n",
      "[ 0.68892456  0.63171479  0.38533196  0.55411588  0.6811298   0.5666725\n",
      "  0.52352972  0.63139698  0.66490713  0.72291208]\n",
      "0.605063538922\n"
     ]
    }
   ],
   "source": [
    "y_pred_tr = stacker.predict(x_train)\n",
    "print 'Train:', r2_score(y_train, y_pred_tr)\n",
    "cv_scores = cross_val_score(stacker, x_train, y_train, scoring='r2', cv=10)\n",
    "print cv_scores\n",
    "print np.mean(cv_scores)"
   ]
  },
  {
   "cell_type": "code",
   "execution_count": 93,
   "metadata": {
    "collapsed": true
   },
   "outputs": [],
   "source": [
    "id_test = df_test.ID"
   ]
  },
  {
   "cell_type": "code",
   "execution_count": 100,
   "metadata": {
    "collapsed": false
   },
   "outputs": [
    {
     "name": "stdout",
     "output_type": "stream",
     "text": [
      "(4209, 2)\n"
     ]
    },
    {
     "data": {
      "text/html": [
       "<div>\n",
       "<table border=\"1\" class=\"dataframe\">\n",
       "  <thead>\n",
       "    <tr style=\"text-align: right;\">\n",
       "      <th></th>\n",
       "      <th>ID</th>\n",
       "      <th>y</th>\n",
       "    </tr>\n",
       "  </thead>\n",
       "  <tbody>\n",
       "    <tr>\n",
       "      <th>0</th>\n",
       "      <td>1</td>\n",
       "      <td>88.760425</td>\n",
       "    </tr>\n",
       "    <tr>\n",
       "      <th>1</th>\n",
       "      <td>2</td>\n",
       "      <td>105.321384</td>\n",
       "    </tr>\n",
       "    <tr>\n",
       "      <th>2</th>\n",
       "      <td>3</td>\n",
       "      <td>79.934264</td>\n",
       "    </tr>\n",
       "    <tr>\n",
       "      <th>3</th>\n",
       "      <td>4</td>\n",
       "      <td>77.223269</td>\n",
       "    </tr>\n",
       "    <tr>\n",
       "      <th>4</th>\n",
       "      <td>5</td>\n",
       "      <td>118.440588</td>\n",
       "    </tr>\n",
       "  </tbody>\n",
       "</table>\n",
       "</div>"
      ],
      "text/plain": [
       "   ID           y\n",
       "0   1   88.760425\n",
       "1   2  105.321384\n",
       "2   3   79.934264\n",
       "3   4   77.223269\n",
       "4   5  118.440588"
      ]
     },
     "execution_count": 100,
     "metadata": {},
     "output_type": "execute_result"
    }
   ],
   "source": [
    "y_predict = stacker.predict(x_submission).flatten()\n",
    "output = pd.DataFrame({'ID': id_test, 'y': y_predict})\n",
    "print output.shape\n",
    "output.head()"
   ]
  },
  {
   "cell_type": "code",
   "execution_count": 101,
   "metadata": {
    "collapsed": true
   },
   "outputs": [],
   "source": [
    "output.to_csv('submissions/first_stacker_rf_xgbcv_xgbregressor.csv', index=False)"
   ]
  },
  {
   "cell_type": "code",
   "execution_count": null,
   "metadata": {
    "collapsed": true
   },
   "outputs": [],
   "source": []
  }
 ],
 "metadata": {
  "kernelspec": {
   "display_name": "Python 2",
   "language": "python",
   "name": "python2"
  },
  "language_info": {
   "codemirror_mode": {
    "name": "ipython",
    "version": 2
   },
   "file_extension": ".py",
   "mimetype": "text/x-python",
   "name": "python",
   "nbconvert_exporter": "python",
   "pygments_lexer": "ipython2",
   "version": "2.7.13"
  }
 },
 "nbformat": 4,
 "nbformat_minor": 2
}
